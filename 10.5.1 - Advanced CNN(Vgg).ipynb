{
 "cells": [
  {
   "cell_type": "markdown",
   "source": [
    "# Lab 10.5.1: Advanced CNN (VGG)\r\n",
    "\r\n",
    "Edited By Steve Ive\r\n",
    "\r\n",
    "Here, we are going to learn about the advanced CNN, which is called as 'VGG', made by Oxford.\r\n",
    "More about the VGG net, please read the article before this '10.5.0 About the VGG net.md'\r\n",
    "\r\n",
    "Reference From\r\n",
    "\r\n",
    "https://github.com/deeplearningzerotoall/PyTorch/blob/master/lab-10_5_1_Advance-cnn(VGG).ipynb"
   ],
   "metadata": {}
  },
  {
   "cell_type": "markdown",
   "source": [
    "## Follow Codes are same as\r\n",
    "\r\n",
    "```import torchvision.models.vgg```"
   ],
   "metadata": {}
  },
  {
   "cell_type": "code",
   "execution_count": 10,
   "source": [
    "import torch\r\n",
    "import torch.nn as nn\r\n",
    "import torch.utils.model_zoo as model_zoo"
   ],
   "outputs": [],
   "metadata": {}
  },
  {
   "cell_type": "code",
   "execution_count": 11,
   "source": [
    "__all__ = [\r\n",
    "    'VGG', 'vgg11', 'vgg11_bn', 'vgg13', 'vgg13_bn', 'vgg16', 'vgg16_bn',\r\n",
    "    'vgg19_bn', 'vgg19',\r\n",
    "]\r\n",
    "\r\n",
    "\r\n",
    "model_urls = {\r\n",
    "    'vgg11': 'https://download.pytorch.org/models/vgg11-bbd30ac9.pth',\r\n",
    "    'vgg13': 'https://download.pytorch.org/models/vgg13-c768596a.pth',\r\n",
    "    'vgg16': 'https://download.pytorch.org/models/vgg16-397923af.pth',\r\n",
    "    'vgg19': 'https://download.pytorch.org/models/vgg19-dcbb9e9d.pth',\r\n",
    "    'vgg11_bn': 'https://download.pytorch.org/models/vgg11_bn-6002323d.pth',\r\n",
    "    'vgg13_bn': 'https://download.pytorch.org/models/vgg13_bn-abd245e5.pth',\r\n",
    "    'vgg16_bn': 'https://download.pytorch.org/models/vgg16_bn-6c64b313.pth',\r\n",
    "    'vgg19_bn': 'https://download.pytorch.org/models/vgg19_bn-c79401a0.pth',\r\n",
    "}"
   ],
   "outputs": [],
   "metadata": {}
  },
  {
   "cell_type": "markdown",
   "source": [
    "### Take a Moment!\r\n",
    "\r\n",
    "```torch.nn.init.normal_(tensor, mean=0.0, std=1.0)```\r\n",
    "\r\n",
    "Fills the input Tensor with values drawn from the normal distribution $\\mathcal{N}(\\text{mean}, \\text{std}^2)$.\r\n",
    "\r\n",
    "**Parameters**\r\n",
    "\r\n",
    "> - **tensor** – an n-dimensional torch.Tensor\r\n",
    "\r\n",
    "> - **mean** – the mean of the normal distribution\r\n",
    "\r\n",
    "> - **std**  – the standard deviation of the normal distribution\r\n",
    "\r\n",
    "\r\n",
    "```torch.nn.init.constant_(tensor, val)```\r\n",
    "\r\n",
    "Fills the input Tensor with the value $\\text{val}$.\r\n",
    "\r\n",
    "**Parameters**\r\n",
    "\r\n",
    "> - **tensor** – an n-dimensional torch.Tensor\r\n",
    "\r\n",
    "> - **val** – the value to fill the tensor with\r\n",
    "\r\n",
    "```torch.nn.init.xavier_normal_(tensor, gain=1.0)```\r\n",
    "\r\n",
    "Fills the input Tensor with values according to the method described in Understanding the difficulty of training deep feedforward neural networks - Glorot, X. & Bengio, Y. (2010), using a normal distribution. The resulting tensor will have values sampled from $\\mathcal{N}(0, \\text{std}^2)$ where\r\n",
    "\r\n",
    "$\\text{std} = \\text{gain} \\times \\sqrt{\\frac{2}{\\text{fan\\_in} + \\text{fan\\_out}}}$\r\n",
    "​\r\n",
    " \r\n",
    "Also known as Glorot initialization.\r\n",
    "\r\n",
    "**Parameters**\r\n",
    "\r\n",
    "> - **tensor** – an n-dimensional torch.Tensor\r\n",
    "\r\n",
    "> - **gain** – an optional scaling factor\r\n",
    "\r\n",
    "\r\n",
    "```torch.nn.init.kaiming_normal_(tensor, a=0, mode='fan_in', nonlinearity='leaky_relu')```\r\n",
    "\r\n",
    "Fills the input Tensor with values according to the method described in Delving deep into rectifiers: Surpassing human-level performance on ImageNet classification - He, K. et al. (2015), using a normal distribution. The resulting tensor will have values sampled from $\\mathcal{N}(0, \\text{std}^2)$ where\r\n",
    "\r\n",
    "$\\text{std} = \\frac{\\text{gain}}{\\sqrt{\\text{fan\\_mode}}}$\r\n",
    "​\r\n",
    " \r\n",
    "Also known as He initialization.\r\n",
    "\r\n",
    "**Parameters**\r\n",
    "\r\n",
    "> - **tensor** – an n-dimensional torch.Tensor\r\n",
    "\r\n",
    "> - **a** – the negative slope of the rectifier used after this layer (only used with 'leaky_relu')\r\n",
    "\r\n",
    "> - **mode** – either 'fan_in' (default) or 'fan_out'. Choosing 'fan_in' preserves the magnitude of the variance of the weights in the forward pass. Choosing 'fan_out' preserves the magnitudes in the backwards pass.\r\n",
    "\r\n",
    "> - **nonlinearity** – the non-linear function (nn.functional name), recommended to use only with 'relu' or 'leaky_relu' (default)."
   ],
   "metadata": {}
  },
  {
   "cell_type": "code",
   "execution_count": 28,
   "source": [
    "class VGG(nn.Module):\r\n",
    "    def __init__(self, features, num_classes = 1000, init_weights = True):\r\n",
    "        super(VGG, self).__init__()\r\n",
    "\r\n",
    "        self.features = features #convolution\r\n",
    "\r\n",
    "        self.avgpool = nn.AdaptiveAvgPool2d((7, 7))\r\n",
    "\r\n",
    "        self.classifier = nn.Sequential(\r\n",
    "            nn.Linear(512 * 7 * 7, 4096),\r\n",
    "            nn.ReLU(True),\r\n",
    "            nn.Dropout(),\r\n",
    "            nn.Linear(4096, 4096),\r\n",
    "            nn.ReLU(True),\r\n",
    "            nn.Dropout(),\r\n",
    "            nn.Linear(4096, num_classes),\r\n",
    "        )#FC Layers\r\n",
    "\r\n",
    "        if init_weights:\r\n",
    "            self._initialize_weights()\r\n",
    "\r\n",
    "    def forward(self, x):\r\n",
    "        x = self.features(x) #Convolution\r\n",
    "        x = self.avgpool(x) #avgpool\r\n",
    "        x = x.view(x.size(0), -1)\r\n",
    "        x = self.classifer(x) #FC Layer\r\n",
    "        return x\r\n",
    "\r\n",
    "    def _initialize_weights(self):\r\n",
    "        for m in self.modules():\r\n",
    "            if isinstance(m, nn.Conv2d):\r\n",
    "                nn.init.kaiming_normal_(m.weight, mode='fan_out', nonlinearity='relu')\r\n",
    "\r\n",
    "                if m.bias is not None:\r\n",
    "                    nn.init.constant_(m.bias, 0)\r\n",
    "                \r\n",
    "            elif isinstance(m, nn.BatchNorm2d):\r\n",
    "                nn.init.constant_(m.weight, 1)\r\n",
    "                nn.init.constant_(m.bias, 0)\r\n",
    "            elif isinstance(m, nn.Linear):\r\n",
    "                nn.init.normal_(m.weight, 0, 0.01)\r\n",
    "                nn.init.constant_(m.bias, 0)"
   ],
   "outputs": [],
   "metadata": {}
  },
  {
   "cell_type": "code",
   "execution_count": 29,
   "source": [
    "def make_layers(cfg, batch_norm = False):\r\n",
    "    layers = []\r\n",
    "    in_channels = 3\r\n",
    "\r\n",
    "    for v in cfg:\r\n",
    "        if v == 'M':\r\n",
    "            layers += [nn.MaxPool2d(kernel_size = 2, stride = 2)]\r\n",
    "        else:\r\n",
    "            conv2d = nn.Conv2d(in_channels, v, kernel_size = 3, padding = 1)\r\n",
    "            if batch_norm:\r\n",
    "                layers += [conv2d, nn.BatchNorm2d(v), nn.ReLU(inplace = True)]\r\n",
    "            else:\r\n",
    "                layers += [conv2d, nn.ReLU(inplace = True)]\r\n",
    "            in_channels = v\r\n",
    "    \r\n",
    "    return nn.Sequential(*layers)"
   ],
   "outputs": [],
   "metadata": {}
  },
  {
   "cell_type": "code",
   "execution_count": 30,
   "source": [
    "cfg = {\r\n",
    "    'A': [64, 'M', 128, 'M', 256, 256, 'M', 512, 512, 'M', 512, 512, 'M'], #vgg11\r\n",
    "    'B': [64, 64, 'M', 128, 128, 'M', 256, 256, 'M', 512, 512, 'M', 512, 512, 'M'], # 10 + 3 = vgg 13\r\n",
    "    'D': [64, 64, 'M', 128, 128, 'M', 256, 256, 256, 'M', 512, 512, 512, 'M', 512, 512, 512, 'M'], #13 + 3 = vgg 16\r\n",
    "    'E': [64, 64, 'M', 128, 128, 'M', 256, 256, 256, 256, 'M', 512, 512, 512, 512, 'M', 512, 512, 512, 512, 'M'], # 16 +3 =vgg 19\r\n",
    "}"
   ],
   "outputs": [],
   "metadata": {}
  },
  {
   "cell_type": "code",
   "execution_count": 31,
   "source": [
    "conv = make_layers(cfg['A'], batch_norm=True)"
   ],
   "outputs": [],
   "metadata": {}
  },
  {
   "cell_type": "code",
   "execution_count": 32,
   "source": [
    "CNN = VGG(conv, num_classes = 10, init_weights = True)"
   ],
   "outputs": [],
   "metadata": {}
  },
  {
   "cell_type": "code",
   "execution_count": 33,
   "source": [
    "CNN"
   ],
   "outputs": [
    {
     "output_type": "execute_result",
     "data": {
      "text/plain": [
       "VGG(\n",
       "  (features): Sequential(\n",
       "    (0): Conv2d(3, 64, kernel_size=(3, 3), stride=(1, 1), padding=(1, 1))\n",
       "    (1): BatchNorm2d(64, eps=1e-05, momentum=0.1, affine=True, track_running_stats=True)\n",
       "    (2): ReLU(inplace=True)\n",
       "    (3): MaxPool2d(kernel_size=2, stride=2, padding=0, dilation=1, ceil_mode=False)\n",
       "    (4): Conv2d(64, 128, kernel_size=(3, 3), stride=(1, 1), padding=(1, 1))\n",
       "    (5): BatchNorm2d(128, eps=1e-05, momentum=0.1, affine=True, track_running_stats=True)\n",
       "    (6): ReLU(inplace=True)\n",
       "    (7): MaxPool2d(kernel_size=2, stride=2, padding=0, dilation=1, ceil_mode=False)\n",
       "    (8): Conv2d(128, 256, kernel_size=(3, 3), stride=(1, 1), padding=(1, 1))\n",
       "    (9): BatchNorm2d(256, eps=1e-05, momentum=0.1, affine=True, track_running_stats=True)\n",
       "    (10): ReLU(inplace=True)\n",
       "    (11): Conv2d(256, 256, kernel_size=(3, 3), stride=(1, 1), padding=(1, 1))\n",
       "    (12): BatchNorm2d(256, eps=1e-05, momentum=0.1, affine=True, track_running_stats=True)\n",
       "    (13): ReLU(inplace=True)\n",
       "    (14): MaxPool2d(kernel_size=2, stride=2, padding=0, dilation=1, ceil_mode=False)\n",
       "    (15): Conv2d(256, 512, kernel_size=(3, 3), stride=(1, 1), padding=(1, 1))\n",
       "    (16): BatchNorm2d(512, eps=1e-05, momentum=0.1, affine=True, track_running_stats=True)\n",
       "    (17): ReLU(inplace=True)\n",
       "    (18): Conv2d(512, 512, kernel_size=(3, 3), stride=(1, 1), padding=(1, 1))\n",
       "    (19): BatchNorm2d(512, eps=1e-05, momentum=0.1, affine=True, track_running_stats=True)\n",
       "    (20): ReLU(inplace=True)\n",
       "    (21): MaxPool2d(kernel_size=2, stride=2, padding=0, dilation=1, ceil_mode=False)\n",
       "    (22): Conv2d(512, 512, kernel_size=(3, 3), stride=(1, 1), padding=(1, 1))\n",
       "    (23): BatchNorm2d(512, eps=1e-05, momentum=0.1, affine=True, track_running_stats=True)\n",
       "    (24): ReLU(inplace=True)\n",
       "    (25): Conv2d(512, 512, kernel_size=(3, 3), stride=(1, 1), padding=(1, 1))\n",
       "    (26): BatchNorm2d(512, eps=1e-05, momentum=0.1, affine=True, track_running_stats=True)\n",
       "    (27): ReLU(inplace=True)\n",
       "    (28): MaxPool2d(kernel_size=2, stride=2, padding=0, dilation=1, ceil_mode=False)\n",
       "  )\n",
       "  (avgpool): AdaptiveAvgPool2d(output_size=(7, 7))\n",
       "  (classifier): Sequential(\n",
       "    (0): Linear(in_features=25088, out_features=4096, bias=True)\n",
       "    (1): ReLU(inplace=True)\n",
       "    (2): Dropout(p=0.5, inplace=False)\n",
       "    (3): Linear(in_features=4096, out_features=4096, bias=True)\n",
       "    (4): ReLU(inplace=True)\n",
       "    (5): Dropout(p=0.5, inplace=False)\n",
       "    (6): Linear(in_features=4096, out_features=10, bias=True)\n",
       "  )\n",
       ")"
      ]
     },
     "metadata": {},
     "execution_count": 33
    }
   ],
   "metadata": {}
  }
 ],
 "metadata": {
  "orig_nbformat": 4,
  "language_info": {
   "name": "python",
   "version": "3.8.8",
   "mimetype": "text/x-python",
   "codemirror_mode": {
    "name": "ipython",
    "version": 3
   },
   "pygments_lexer": "ipython3",
   "nbconvert_exporter": "python",
   "file_extension": ".py"
  },
  "kernelspec": {
   "name": "python3",
   "display_name": "Python 3.8.8 64-bit ('buddhalight': conda)"
  },
  "interpreter": {
   "hash": "38ed4d61829b01de31b0fe0651719916120d9f7e023a62cbbfea93b7d24a50a0"
  }
 },
 "nbformat": 4,
 "nbformat_minor": 2
}